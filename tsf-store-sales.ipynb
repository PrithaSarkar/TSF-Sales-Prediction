{
 "cells": [
  {
   "cell_type": "code",
   "execution_count": 1,
   "id": "b4185443",
   "metadata": {
    "_cell_guid": "b1076dfc-b9ad-4769-8c92-a6c4dae69d19",
    "_uuid": "8f2839f25d086af736a60e9eeb907d3b93b6e0e5",
    "execution": {
     "iopub.execute_input": "2022-02-17T16:21:52.312839Z",
     "iopub.status.busy": "2022-02-17T16:21:52.312057Z",
     "iopub.status.idle": "2022-02-17T16:21:52.321425Z",
     "shell.execute_reply": "2022-02-17T16:21:52.322022Z",
     "shell.execute_reply.started": "2022-02-17T15:51:25.220663Z"
    },
    "papermill": {
     "duration": 0.039778,
     "end_time": "2022-02-17T16:21:52.322392",
     "exception": false,
     "start_time": "2022-02-17T16:21:52.282614",
     "status": "completed"
    },
    "tags": []
   },
   "outputs": [
    {
     "name": "stdout",
     "output_type": "stream",
     "text": [
      "/kaggle/input/store-sales-time-series-forecasting/oil.csv\n",
      "/kaggle/input/store-sales-time-series-forecasting/sample_submission.csv\n",
      "/kaggle/input/store-sales-time-series-forecasting/holidays_events.csv\n",
      "/kaggle/input/store-sales-time-series-forecasting/stores.csv\n",
      "/kaggle/input/store-sales-time-series-forecasting/train.csv\n",
      "/kaggle/input/store-sales-time-series-forecasting/test.csv\n",
      "/kaggle/input/store-sales-time-series-forecasting/transactions.csv\n"
     ]
    }
   ],
   "source": [
    "# This Python 3 environment comes with many helpful analytics libraries installed\n",
    "# It is defined by the kaggle/python Docker image: https://github.com/kaggle/docker-python\n",
    "# For example, here's several helpful packages to load\n",
    "\n",
    "import numpy as np # linear algebra\n",
    "import pandas as pd # data processing, CSV file I/O (e.g. pd.read_csv)\n",
    "\n",
    "# Input data files are available in the read-only \"../input/\" directory\n",
    "# For example, running this (by clicking run or pressing Shift+Enter) will list all files under the input directory\n",
    "\n",
    "import os\n",
    "for dirname, _, filenames in os.walk('/kaggle/input'):\n",
    "    for filename in filenames:\n",
    "        print(os.path.join(dirname, filename))\n",
    "\n",
    "# You can write up to 20GB to the current directory (/kaggle/working/) that gets preserved as output when you create a version using \"Save & Run All\" \n",
    "# You can also write temporary files to /kaggle/temp/, but they won't be saved outside of the current session"
   ]
  },
  {
   "cell_type": "code",
   "execution_count": 2,
   "id": "da89fe1f",
   "metadata": {
    "execution": {
     "iopub.execute_input": "2022-02-17T16:21:52.366650Z",
     "iopub.status.busy": "2022-02-17T16:21:52.365939Z",
     "iopub.status.idle": "2022-02-17T16:21:52.399125Z",
     "shell.execute_reply": "2022-02-17T16:21:52.398461Z",
     "shell.execute_reply.started": "2022-02-17T15:51:25.256050Z"
    },
    "papermill": {
     "duration": 0.056653,
     "end_time": "2022-02-17T16:21:52.399338",
     "exception": false,
     "start_time": "2022-02-17T16:21:52.342685",
     "status": "completed"
    },
    "tags": []
   },
   "outputs": [],
   "source": [
    "#importing the files\n",
    "holidays = pd.read_csv('../input/store-sales-time-series-forecasting/holidays_events.csv')\n",
    "oil = pd.read_csv('../input/store-sales-time-series-forecasting/oil.csv')\n",
    "transactions = pd.read_csv('../input/store-sales-time-series-forecasting/stores.csv')"
   ]
  },
  {
   "cell_type": "markdown",
   "id": "23cd839b",
   "metadata": {
    "papermill": {
     "duration": 0.019264,
     "end_time": "2022-02-17T16:21:52.438257",
     "exception": false,
     "start_time": "2022-02-17T16:21:52.418993",
     "status": "completed"
    },
    "tags": []
   },
   "source": [
    "Let's have a peek into the respective dataframes and see what the data looks like."
   ]
  },
  {
   "cell_type": "code",
   "execution_count": 3,
   "id": "ba260fe2",
   "metadata": {
    "execution": {
     "iopub.execute_input": "2022-02-17T16:21:52.480656Z",
     "iopub.status.busy": "2022-02-17T16:21:52.479988Z",
     "iopub.status.idle": "2022-02-17T16:21:52.497056Z",
     "shell.execute_reply": "2022-02-17T16:21:52.497746Z",
     "shell.execute_reply.started": "2022-02-17T15:51:25.294108Z"
    },
    "papermill": {
     "duration": 0.040373,
     "end_time": "2022-02-17T16:21:52.497948",
     "exception": false,
     "start_time": "2022-02-17T16:21:52.457575",
     "status": "completed"
    },
    "tags": []
   },
   "outputs": [
    {
     "name": "stdout",
     "output_type": "stream",
     "text": [
      "         date     type    locale locale_name                    description  \\\n",
      "0  2012-03-02  Holiday     Local       Manta             Fundacion de Manta   \n",
      "1  2012-04-01  Holiday  Regional    Cotopaxi  Provincializacion de Cotopaxi   \n",
      "2  2012-04-12  Holiday     Local      Cuenca            Fundacion de Cuenca   \n",
      "3  2012-04-14  Holiday     Local    Libertad      Cantonizacion de Libertad   \n",
      "4  2012-04-21  Holiday     Local    Riobamba      Cantonizacion de Riobamba   \n",
      "\n",
      "   transferred  \n",
      "0        False  \n",
      "1        False  \n",
      "2        False  \n",
      "3        False  \n",
      "4        False  \n",
      "           date        type    locale locale_name description  transferred\n",
      "345  2017-12-22  Additional  National     Ecuador   Navidad-3        False\n",
      "346  2017-12-23  Additional  National     Ecuador   Navidad-2        False\n",
      "347  2017-12-24  Additional  National     Ecuador   Navidad-1        False\n",
      "348  2017-12-25     Holiday  National     Ecuador     Navidad        False\n",
      "349  2017-12-26  Additional  National     Ecuador   Navidad+1        False\n"
     ]
    }
   ],
   "source": [
    "print(holidays.head(5))\n",
    "print(holidays.tail(5))"
   ]
  },
  {
   "cell_type": "markdown",
   "id": "30929d92",
   "metadata": {
    "papermill": {
     "duration": 0.019617,
     "end_time": "2022-02-17T16:21:52.537698",
     "exception": false,
     "start_time": "2022-02-17T16:21:52.518081",
     "status": "completed"
    },
    "tags": []
   },
   "source": [
    "There are 350 rows in total. \n",
    "Columns such as \"locale_name\" and \"description\" does not contribute anything towards the forecasting and therefore, dropping the said columns would be a good idea.\n",
    "\"transferred\" column carries boolean values. False indicates that the holiday was celebrated on that exact day while True indicates that a seperate day was assigned to celebrate that holiday. Thus, rows with True in \"transferred\" column might not provide valuable insight and should be dropped."
   ]
  },
  {
   "cell_type": "code",
   "execution_count": 4,
   "id": "71329254",
   "metadata": {
    "execution": {
     "iopub.execute_input": "2022-02-17T16:21:52.581487Z",
     "iopub.status.busy": "2022-02-17T16:21:52.580792Z",
     "iopub.status.idle": "2022-02-17T16:21:52.600876Z",
     "shell.execute_reply": "2022-02-17T16:21:52.600135Z",
     "shell.execute_reply.started": "2022-02-17T15:51:25.314537Z"
    },
    "papermill": {
     "duration": 0.043088,
     "end_time": "2022-02-17T16:21:52.601038",
     "exception": false,
     "start_time": "2022-02-17T16:21:52.557950",
     "status": "completed"
    },
    "tags": []
   },
   "outputs": [],
   "source": [
    "holidays.drop(['locale_name', 'description'], axis=1, inplace=True)\n",
    "holidays.drop(holidays.index[holidays['transferred']=='True'], inplace=True)"
   ]
  },
  {
   "cell_type": "code",
   "execution_count": 5,
   "id": "524d3112",
   "metadata": {
    "execution": {
     "iopub.execute_input": "2022-02-17T16:21:52.654950Z",
     "iopub.status.busy": "2022-02-17T16:21:52.654251Z",
     "iopub.status.idle": "2022-02-17T16:21:52.665483Z",
     "shell.execute_reply": "2022-02-17T16:21:52.666028Z",
     "shell.execute_reply.started": "2022-02-17T15:51:25.332689Z"
    },
    "papermill": {
     "duration": 0.045006,
     "end_time": "2022-02-17T16:21:52.666259",
     "exception": false,
     "start_time": "2022-02-17T16:21:52.621253",
     "status": "completed"
    },
    "tags": []
   },
   "outputs": [
    {
     "data": {
      "text/html": [
       "<div>\n",
       "<style scoped>\n",
       "    .dataframe tbody tr th:only-of-type {\n",
       "        vertical-align: middle;\n",
       "    }\n",
       "\n",
       "    .dataframe tbody tr th {\n",
       "        vertical-align: top;\n",
       "    }\n",
       "\n",
       "    .dataframe thead th {\n",
       "        text-align: right;\n",
       "    }\n",
       "</style>\n",
       "<table border=\"1\" class=\"dataframe\">\n",
       "  <thead>\n",
       "    <tr style=\"text-align: right;\">\n",
       "      <th></th>\n",
       "      <th>date</th>\n",
       "      <th>type</th>\n",
       "      <th>locale</th>\n",
       "      <th>transferred</th>\n",
       "    </tr>\n",
       "  </thead>\n",
       "  <tbody>\n",
       "    <tr>\n",
       "      <th>0</th>\n",
       "      <td>2012-03-02</td>\n",
       "      <td>Holiday</td>\n",
       "      <td>Local</td>\n",
       "      <td>False</td>\n",
       "    </tr>\n",
       "    <tr>\n",
       "      <th>1</th>\n",
       "      <td>2012-04-01</td>\n",
       "      <td>Holiday</td>\n",
       "      <td>Regional</td>\n",
       "      <td>False</td>\n",
       "    </tr>\n",
       "    <tr>\n",
       "      <th>2</th>\n",
       "      <td>2012-04-12</td>\n",
       "      <td>Holiday</td>\n",
       "      <td>Local</td>\n",
       "      <td>False</td>\n",
       "    </tr>\n",
       "    <tr>\n",
       "      <th>3</th>\n",
       "      <td>2012-04-14</td>\n",
       "      <td>Holiday</td>\n",
       "      <td>Local</td>\n",
       "      <td>False</td>\n",
       "    </tr>\n",
       "    <tr>\n",
       "      <th>4</th>\n",
       "      <td>2012-04-21</td>\n",
       "      <td>Holiday</td>\n",
       "      <td>Local</td>\n",
       "      <td>False</td>\n",
       "    </tr>\n",
       "    <tr>\n",
       "      <th>...</th>\n",
       "      <td>...</td>\n",
       "      <td>...</td>\n",
       "      <td>...</td>\n",
       "      <td>...</td>\n",
       "    </tr>\n",
       "    <tr>\n",
       "      <th>345</th>\n",
       "      <td>2017-12-22</td>\n",
       "      <td>Additional</td>\n",
       "      <td>National</td>\n",
       "      <td>False</td>\n",
       "    </tr>\n",
       "    <tr>\n",
       "      <th>346</th>\n",
       "      <td>2017-12-23</td>\n",
       "      <td>Additional</td>\n",
       "      <td>National</td>\n",
       "      <td>False</td>\n",
       "    </tr>\n",
       "    <tr>\n",
       "      <th>347</th>\n",
       "      <td>2017-12-24</td>\n",
       "      <td>Additional</td>\n",
       "      <td>National</td>\n",
       "      <td>False</td>\n",
       "    </tr>\n",
       "    <tr>\n",
       "      <th>348</th>\n",
       "      <td>2017-12-25</td>\n",
       "      <td>Holiday</td>\n",
       "      <td>National</td>\n",
       "      <td>False</td>\n",
       "    </tr>\n",
       "    <tr>\n",
       "      <th>349</th>\n",
       "      <td>2017-12-26</td>\n",
       "      <td>Additional</td>\n",
       "      <td>National</td>\n",
       "      <td>False</td>\n",
       "    </tr>\n",
       "  </tbody>\n",
       "</table>\n",
       "<p>350 rows × 4 columns</p>\n",
       "</div>"
      ],
      "text/plain": [
       "           date        type    locale  transferred\n",
       "0    2012-03-02     Holiday     Local        False\n",
       "1    2012-04-01     Holiday  Regional        False\n",
       "2    2012-04-12     Holiday     Local        False\n",
       "3    2012-04-14     Holiday     Local        False\n",
       "4    2012-04-21     Holiday     Local        False\n",
       "..          ...         ...       ...          ...\n",
       "345  2017-12-22  Additional  National        False\n",
       "346  2017-12-23  Additional  National        False\n",
       "347  2017-12-24  Additional  National        False\n",
       "348  2017-12-25     Holiday  National        False\n",
       "349  2017-12-26  Additional  National        False\n",
       "\n",
       "[350 rows x 4 columns]"
      ]
     },
     "execution_count": 5,
     "metadata": {},
     "output_type": "execute_result"
    }
   ],
   "source": [
    "holidays"
   ]
  },
  {
   "cell_type": "code",
   "execution_count": 6,
   "id": "3f1dc4ff",
   "metadata": {
    "execution": {
     "iopub.execute_input": "2022-02-17T16:21:52.719745Z",
     "iopub.status.busy": "2022-02-17T16:21:52.711129Z",
     "iopub.status.idle": "2022-02-17T16:21:52.722607Z",
     "shell.execute_reply": "2022-02-17T16:21:52.723141Z",
     "shell.execute_reply.started": "2022-02-17T15:51:25.361056Z"
    },
    "papermill": {
     "duration": 0.036522,
     "end_time": "2022-02-17T16:21:52.723390",
     "exception": false,
     "start_time": "2022-02-17T16:21:52.686868",
     "status": "completed"
    },
    "tags": []
   },
   "outputs": [
    {
     "name": "stdout",
     "output_type": "stream",
     "text": [
      "         date  dcoilwtico\n",
      "0  2013-01-01         NaN\n",
      "1  2013-01-02       93.14\n",
      "2  2013-01-03       92.97\n",
      "3  2013-01-04       93.12\n",
      "4  2013-01-07       93.20\n",
      "            date  dcoilwtico\n",
      "1213  2017-08-25       47.65\n",
      "1214  2017-08-28       46.40\n",
      "1215  2017-08-29       46.46\n",
      "1216  2017-08-30       45.96\n",
      "1217  2017-08-31       47.26\n"
     ]
    }
   ],
   "source": [
    "print(oil.head(5))\n",
    "print(oil.tail(5))"
   ]
  },
  {
   "cell_type": "markdown",
   "id": "77d31c44",
   "metadata": {
    "papermill": {
     "duration": 0.020405,
     "end_time": "2022-02-17T16:21:52.764877",
     "exception": false,
     "start_time": "2022-02-17T16:21:52.744472",
     "status": "completed"
    },
    "tags": []
   },
   "source": [
    "The oil dataframe has only 3 columns with 1218 rows and all 3 columns can prove to be useful. Hence, we'll leave the dataframe as it is."
   ]
  },
  {
   "cell_type": "code",
   "execution_count": 7,
   "id": "ae388fa4",
   "metadata": {
    "execution": {
     "iopub.execute_input": "2022-02-17T16:21:52.822152Z",
     "iopub.status.busy": "2022-02-17T16:21:52.820898Z",
     "iopub.status.idle": "2022-02-17T16:21:52.825382Z",
     "shell.execute_reply": "2022-02-17T16:21:52.824698Z",
     "shell.execute_reply.started": "2022-02-17T15:51:25.373399Z"
    },
    "papermill": {
     "duration": 0.038923,
     "end_time": "2022-02-17T16:21:52.825564",
     "exception": false,
     "start_time": "2022-02-17T16:21:52.786641",
     "status": "completed"
    },
    "tags": []
   },
   "outputs": [
    {
     "name": "stdout",
     "output_type": "stream",
     "text": [
      "   store_nbr           city                           state type  cluster\n",
      "0          1          Quito                       Pichincha    D       13\n",
      "1          2          Quito                       Pichincha    D       13\n",
      "2          3          Quito                       Pichincha    D        8\n",
      "3          4          Quito                       Pichincha    D        9\n",
      "4          5  Santo Domingo  Santo Domingo de los Tsachilas    D        4\n",
      "    store_nbr       city       state type  cluster\n",
      "49         50     Ambato  Tungurahua    A       14\n",
      "50         51  Guayaquil      Guayas    A       17\n",
      "51         52      Manta      Manabi    A       11\n",
      "52         53      Manta      Manabi    D       13\n",
      "53         54  El Carmen      Manabi    C        3\n"
     ]
    }
   ],
   "source": [
    "print(transactions.head(5))\n",
    "print(transactions.tail(5))"
   ]
  },
  {
   "cell_type": "markdown",
   "id": "00413f87",
   "metadata": {
    "papermill": {
     "duration": 0.021074,
     "end_time": "2022-02-17T16:21:52.868371",
     "exception": false,
     "start_time": "2022-02-17T16:21:52.847297",
     "status": "completed"
    },
    "tags": []
   },
   "source": [
    "Among the 6 columns, \"city\" and \"State\" could be taken out of the equation without it possessing any threat towards the forecasting and thus should be dropped."
   ]
  },
  {
   "cell_type": "code",
   "execution_count": 8,
   "id": "c4671793",
   "metadata": {
    "execution": {
     "iopub.execute_input": "2022-02-17T16:21:52.924859Z",
     "iopub.status.busy": "2022-02-17T16:21:52.924054Z",
     "iopub.status.idle": "2022-02-17T16:21:52.926319Z",
     "shell.execute_reply": "2022-02-17T16:21:52.925682Z",
     "shell.execute_reply.started": "2022-02-17T15:51:25.391607Z"
    },
    "papermill": {
     "duration": 0.03497,
     "end_time": "2022-02-17T16:21:52.926480",
     "exception": false,
     "start_time": "2022-02-17T16:21:52.891510",
     "status": "completed"
    },
    "tags": []
   },
   "outputs": [],
   "source": [
    "transactions.drop(['city', 'state'], axis=1, inplace=True)"
   ]
  },
  {
   "cell_type": "markdown",
   "id": "5242bb0b",
   "metadata": {
    "papermill": {
     "duration": 0.021348,
     "end_time": "2022-02-17T16:21:52.970045",
     "exception": false,
     "start_time": "2022-02-17T16:21:52.948697",
     "status": "completed"
    },
    "tags": []
   },
   "source": [
    "Merging the three dataframes for a more comprehensive description of the sales data."
   ]
  },
  {
   "cell_type": "code",
   "execution_count": 9,
   "id": "ad6c86f0",
   "metadata": {
    "execution": {
     "iopub.execute_input": "2022-02-17T16:21:53.025757Z",
     "iopub.status.busy": "2022-02-17T16:21:53.024984Z",
     "iopub.status.idle": "2022-02-17T16:21:53.039509Z",
     "shell.execute_reply": "2022-02-17T16:21:53.038832Z",
     "shell.execute_reply.started": "2022-02-17T16:02:57.452186Z"
    },
    "papermill": {
     "duration": 0.046669,
     "end_time": "2022-02-17T16:21:53.039681",
     "exception": false,
     "start_time": "2022-02-17T16:21:52.993012",
     "status": "completed"
    },
    "tags": []
   },
   "outputs": [
    {
     "name": "stdout",
     "output_type": "stream",
     "text": [
      "            date     type    locale transferred  dcoilwtico\n",
      "0     2012-03-02  Holiday     Local       False         NaN\n",
      "1     2012-04-01  Holiday  Regional       False         NaN\n",
      "2     2012-04-12  Holiday     Local       False         NaN\n",
      "3     2012-04-14  Holiday     Local       False         NaN\n",
      "4     2012-04-21  Holiday     Local       False         NaN\n",
      "...          ...      ...       ...         ...         ...\n",
      "1379  2017-08-25      NaN       NaN         NaN       47.65\n",
      "1380  2017-08-28      NaN       NaN         NaN       46.40\n",
      "1381  2017-08-29      NaN       NaN         NaN       46.46\n",
      "1382  2017-08-30      NaN       NaN         NaN       45.96\n",
      "1383  2017-08-31      NaN       NaN         NaN       47.26\n",
      "\n",
      "[1384 rows x 5 columns]\n"
     ]
    }
   ],
   "source": [
    "merge1 = pd.merge(holidays, oil, on='date', how='outer')\n",
    "print(merge1)"
   ]
  },
  {
   "cell_type": "markdown",
   "id": "b176c2d2",
   "metadata": {
    "papermill": {
     "duration": 0.023923,
     "end_time": "2022-02-17T16:21:53.088393",
     "exception": false,
     "start_time": "2022-02-17T16:21:53.064470",
     "status": "completed"
    },
    "tags": []
   },
   "source": [
    "Let's now create a index with DateTime and use that as reference for future analysis."
   ]
  },
  {
   "cell_type": "code",
   "execution_count": 10,
   "id": "0a2f4ec7",
   "metadata": {
    "execution": {
     "iopub.execute_input": "2022-02-17T16:21:53.141879Z",
     "iopub.status.busy": "2022-02-17T16:21:53.141105Z",
     "iopub.status.idle": "2022-02-17T16:21:53.153028Z",
     "shell.execute_reply": "2022-02-17T16:21:53.153560Z",
     "shell.execute_reply.started": "2022-02-17T16:03:56.284183Z"
    },
    "papermill": {
     "duration": 0.043092,
     "end_time": "2022-02-17T16:21:53.153764",
     "exception": false,
     "start_time": "2022-02-17T16:21:53.110672",
     "status": "completed"
    },
    "tags": []
   },
   "outputs": [
    {
     "name": "stdout",
     "output_type": "stream",
     "text": [
      "               type    locale transferred  dcoilwtico\n",
      "2012-03-02  Holiday     Local       False         NaN\n",
      "2012-04-01  Holiday  Regional       False         NaN\n",
      "2012-04-12  Holiday     Local       False         NaN\n",
      "2012-04-14  Holiday     Local       False         NaN\n",
      "2012-04-21  Holiday     Local       False         NaN\n",
      "...             ...       ...         ...         ...\n",
      "2017-08-25      NaN       NaN         NaN       47.65\n",
      "2017-08-28      NaN       NaN         NaN       46.40\n",
      "2017-08-29      NaN       NaN         NaN       46.46\n",
      "2017-08-30      NaN       NaN         NaN       45.96\n",
      "2017-08-31      NaN       NaN         NaN       47.26\n",
      "\n",
      "[1384 rows x 4 columns]\n"
     ]
    }
   ],
   "source": [
    "datetime_series = pd.to_datetime(merge1['date'])\n",
    "datetime_index = pd.DatetimeIndex(datetime_series.values)\n",
    "\n",
    "holidays_oil = merge1.set_index(datetime_index)\n",
    "holidays_oil.drop('date',axis=1,inplace=True)\n",
    "\n",
    "print(holidays_oil)"
   ]
  },
  {
   "cell_type": "markdown",
   "id": "8faeb733",
   "metadata": {
    "papermill": {
     "duration": 0.022929,
     "end_time": "2022-02-17T16:21:53.199841",
     "exception": false,
     "start_time": "2022-02-17T16:21:53.176912",
     "status": "completed"
    },
    "tags": []
   },
   "source": [
    "Now it's time to deal with the NaN values in the \"dcoilwtico\" column."
   ]
  },
  {
   "cell_type": "code",
   "execution_count": 11,
   "id": "fe1a384b",
   "metadata": {
    "execution": {
     "iopub.execute_input": "2022-02-17T16:21:53.252961Z",
     "iopub.status.busy": "2022-02-17T16:21:53.252133Z",
     "iopub.status.idle": "2022-02-17T16:21:53.256828Z",
     "shell.execute_reply": "2022-02-17T16:21:53.256168Z",
     "shell.execute_reply.started": "2022-02-17T16:08:17.843491Z"
    },
    "papermill": {
     "duration": 0.034205,
     "end_time": "2022-02-17T16:21:53.256994",
     "exception": false,
     "start_time": "2022-02-17T16:21:53.222789",
     "status": "completed"
    },
    "tags": []
   },
   "outputs": [
    {
     "data": {
      "text/plain": [
       "194"
      ]
     },
     "execution_count": 11,
     "metadata": {},
     "output_type": "execute_result"
    }
   ],
   "source": [
    "holidays_oil['dcoilwtico'].isnull().sum()"
   ]
  },
  {
   "cell_type": "code",
   "execution_count": 12,
   "id": "c0c294cd",
   "metadata": {
    "execution": {
     "iopub.execute_input": "2022-02-17T16:21:53.311672Z",
     "iopub.status.busy": "2022-02-17T16:21:53.310884Z",
     "iopub.status.idle": "2022-02-17T16:21:53.323318Z",
     "shell.execute_reply": "2022-02-17T16:21:53.323850Z",
     "shell.execute_reply.started": "2022-02-17T16:09:41.394258Z"
    },
    "papermill": {
     "duration": 0.042713,
     "end_time": "2022-02-17T16:21:53.324073",
     "exception": false,
     "start_time": "2022-02-17T16:21:53.281360",
     "status": "completed"
    },
    "tags": []
   },
   "outputs": [
    {
     "name": "stdout",
     "output_type": "stream",
     "text": [
      "               type    locale transferred  dcoilwtico\n",
      "2012-03-02  Holiday     Local       False   67.806403\n",
      "2012-04-01  Holiday  Regional       False   67.806403\n",
      "2012-04-12  Holiday     Local       False   67.806403\n",
      "2012-04-14  Holiday     Local       False   67.806403\n",
      "2012-04-21  Holiday     Local       False   67.806403\n",
      "...             ...       ...         ...         ...\n",
      "2017-08-25      NaN       NaN         NaN   47.650000\n",
      "2017-08-28      NaN       NaN         NaN   46.400000\n",
      "2017-08-29      NaN       NaN         NaN   46.460000\n",
      "2017-08-30      NaN       NaN         NaN   45.960000\n",
      "2017-08-31      NaN       NaN         NaN   47.260000\n",
      "\n",
      "[1384 rows x 4 columns]\n"
     ]
    }
   ],
   "source": [
    "holidays_oil['dcoilwtico'] = holidays_oil['dcoilwtico'].replace(np.NaN, holidays_oil['dcoilwtico'].mean())\n",
    "holidays_oil['dcoilwtico'].isnull().sum()\n",
    "print(holidays_oil)"
   ]
  },
  {
   "cell_type": "markdown",
   "id": "50d35866",
   "metadata": {
    "papermill": {
     "duration": 0.023951,
     "end_time": "2022-02-17T16:21:53.372549",
     "exception": false,
     "start_time": "2022-02-17T16:21:53.348598",
     "status": "completed"
    },
    "tags": []
   },
   "source": [
    "Now let's take a look at the fluctuations in oil prices along a period of time."
   ]
  },
  {
   "cell_type": "code",
   "execution_count": 13,
   "id": "7ca2b401",
   "metadata": {
    "execution": {
     "iopub.execute_input": "2022-02-17T16:21:53.427763Z",
     "iopub.status.busy": "2022-02-17T16:21:53.426791Z",
     "iopub.status.idle": "2022-02-17T16:21:53.785606Z",
     "shell.execute_reply": "2022-02-17T16:21:53.786091Z",
     "shell.execute_reply.started": "2022-02-17T16:20:05.428395Z"
    },
    "papermill": {
     "duration": 0.388691,
     "end_time": "2022-02-17T16:21:53.786472",
     "exception": false,
     "start_time": "2022-02-17T16:21:53.397781",
     "status": "completed"
    },
    "tags": []
   },
   "outputs": [
    {
     "data": {
      "text/plain": [
       "<AxesSubplot:>"
      ]
     },
     "execution_count": 13,
     "metadata": {},
     "output_type": "execute_result"
    },
    {
     "data": {
      "image/png": "[encoded data removed]",
      "text/plain": [
       "<Figure size 432x288 with 1 Axes>"
      ]
     },
     "metadata": {
      "needs_background": "light"
     },
     "output_type": "display_data"
    }
   ],
   "source": [
    "holidays_oil.plot(y='dcoilwtico')"
   ]
  }
 ],
 "metadata": {
  "kernelspec": {
   "display_name": "Python 3",
   "language": "python",
   "name": "python3"
  },
  "language_info": {
   "codemirror_mode": {
    "name": "ipython",
    "version": 3
   },
   "file_extension": ".py",
   "mimetype": "text/x-python",
   "name": "python",
   "nbconvert_exporter": "python",
   "pygments_lexer": "ipython3",
   "version": "3.7.12"
  },
  "papermill": {
   "default_parameters": {},
   "duration": 14.230649,
   "end_time": "2022-02-17T16:21:54.726892",
   "environment_variables": {},
   "exception": null,
   "input_path": "__notebook__.ipynb",
   "output_path": "__notebook__.ipynb",
   "parameters": {},
   "start_time": "2022-02-17T16:21:40.496243",
   "version": "2.3.3"
  }
 },
 "nbformat": 4,
 "nbformat_minor": 5
}
